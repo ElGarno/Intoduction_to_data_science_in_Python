{
 "cells": [
  {
   "cell_type": "code",
   "execution_count": 1,
   "metadata": {
    "collapsed": true
   },
   "outputs": [],
   "source": [
    "import pandas as pd\n",
    "\n",
    "def proportion_of_education():\n",
    "    # your code goes here\n",
    "    df = pd.read_csv(\"assets/NISPUF17.csv\")\n",
    "    props = df['EDUC1'].value_counts(normalize=True)\n",
    "    poe_dict = {\n",
    "        'less than high school': props[1],\n",
    "        'high school': props[2],\n",
    "        'more than high school but not college': props[3],\n",
    "        'college': props[4]\n",
    "    }\n",
    "    return poe_dict"
   ]
  },
  {
   "cell_type": "code",
   "execution_count": 2,
   "outputs": [
    {
     "data": {
      "text/plain": "(1.8799187420058687, 1.5963945918878317)"
     },
     "execution_count": 2,
     "metadata": {},
     "output_type": "execute_result"
    }
   ],
   "source": [
    "import pandas as pd\n",
    "\n",
    "def average_influenza_doses():\n",
    "    # YOUR CODE HERE\n",
    "    # child ever fed breast milk: CBF01 - (Yes, No, dont know, missing)\n",
    "    # P_NUMFLU - Variable for total number of seasonal influenza doses\n",
    "\n",
    "    # open csv and load in df\n",
    "    df = pd.read_csv('assets/NISPUF17.csv')\n",
    "    # make a copy of df and delete any NaNs for the interested columns\n",
    "    df2 = df.copy()\n",
    "    # drop Nans\n",
    "    df2.dropna(how='any', axis=0, subset=['CBF_01', 'P_NUMFLU'], inplace=True)\n",
    "    # average dose for breastfed children\n",
    "    breastfed_avg_doses = df2.loc[df2['CBF_01']==1]['P_NUMFLU'].mean()\n",
    "    no_breastfed_avg_doses = df2.loc[df2['CBF_01']==2]['P_NUMFLU'].mean()\n",
    "    return(breastfed_avg_doses, no_breastfed_avg_doses)\n",
    "\n",
    "average_influenza_doses()"
   ],
   "metadata": {
    "collapsed": false,
    "pycharm": {
     "name": "#%%\n"
    }
   }
  },
  {
   "cell_type": "code",
   "execution_count": 4,
   "outputs": [
    {
     "name": "stdout",
     "output_type": "stream",
     "text": [
      "{'male': 0.009675583380762664, 'female': 0.0077918259335489565}\n"
     ]
    }
   ],
   "source": [
    "def chickenpox_by_sex():\n",
    "    # YOUR CODE HERE\n",
    "    # HAD_CPOX - if child had cpox or not\n",
    "    # P_NUMVRC - number varicella doses\n",
    "    # SEX - 1 Male, 2 Female\n",
    "    # open csv and load in df\n",
    "    df = pd.read_csv('assets/NISPUF17.csv')\n",
    "    females_df = df.loc[df['SEX']==2]\n",
    "    males_df = df.loc[df['SEX']==1]\n",
    "\n",
    "    num_female_vac_no_cpox = len(females_df.loc[(females_df['P_NUMVRC']>=1) & (females_df['HAD_CPOX']==2)])\n",
    "    num_female_cpox = len(females_df.loc[(females_df['P_NUMVRC']>=1) & (females_df['HAD_CPOX']==1)])\n",
    "    num_male_vac_no_cpox = len(males_df.loc[(males_df['P_NUMVRC']>=1) & (males_df['HAD_CPOX']==2)])\n",
    "    num_male_cpox = len(males_df.loc[(males_df['P_NUMVRC']>=1) & (males_df['HAD_CPOX']==1)])\n",
    "    return {\n",
    "        'male' : (num_male_cpox/num_male_vac_no_cpox),\n",
    "        'female' : (num_female_cpox/num_female_vac_no_cpox),\n",
    "    }\n",
    "\n",
    "print(chickenpox_by_sex())"
   ],
   "metadata": {
    "collapsed": false,
    "pycharm": {
     "name": "#%%\n"
    }
   }
  },
  {
   "cell_type": "code",
   "execution_count": 6,
   "outputs": [],
   "source": [
    "def corr_chickenpox():\n",
    "    import scipy.stats as stats\n",
    "    import numpy as np\n",
    "    import pandas as pd\n",
    "\n",
    "    df1 = pd.read_csv('assets/NISPUF17.csv')\n",
    "\n",
    "    # drop nas\n",
    "    df1.dropna(how='any', axis=0, subset=['P_NUMVRC', 'HAD_CPOX'], inplace=True)\n",
    "    #select df only where HAD_CPOX < 3\n",
    "    df1 = df1.loc[df1['HAD_CPOX']<3]\n",
    "\n",
    "\n",
    "    # this is just an example dataframe\n",
    "    df=pd.DataFrame({\"had_chickenpox_column\":df1['HAD_CPOX'],\n",
    "                   \"num_chickenpox_vaccine_column\":df1['P_NUMVRC'],\n",
    "                    })\n",
    "\n",
    "    # here is some stub code to actually run the correlation\n",
    "    corr, pval=stats.pearsonr(df[\"had_chickenpox_column\"],df[\"num_chickenpox_vaccine_column\"])\n",
    "\n",
    "    # just return the correlation\n",
    "    return corr"
   ],
   "metadata": {
    "collapsed": false,
    "pycharm": {
     "name": "#%%\n"
    }
   }
  },
  {
   "cell_type": "code",
   "execution_count": null,
   "outputs": [],
   "source": [],
   "metadata": {
    "collapsed": false,
    "pycharm": {
     "name": "#%%\n"
    }
   }
  }
 ],
 "metadata": {
  "kernelspec": {
   "display_name": "Python 3",
   "language": "python",
   "name": "python3"
  },
  "language_info": {
   "codemirror_mode": {
    "name": "ipython",
    "version": 2
   },
   "file_extension": ".py",
   "mimetype": "text/x-python",
   "name": "python",
   "nbconvert_exporter": "python",
   "pygments_lexer": "ipython2",
   "version": "2.7.6"
  }
 },
 "nbformat": 4,
 "nbformat_minor": 0
}