{
 "cells": [
  {
   "cell_type": "markdown",
   "metadata": {
    "deletable": false,
    "editable": false,
    "nbgrader": {
     "checksum": "48770f8b5f5d3062d3badd51fcafc401",
     "grade": false,
     "grade_id": "cell-a6c4f74309fc2379",
     "locked": true,
     "schema_version": 1,
     "solution": false
    }
   },
   "source": [
    "# Assignment 4\n",
    "## Description\n",
    "In this assignment you must read in a file of metropolitan regions and associated sports teams from [assets/wikipedia_data.html](assets/wikipedia_data.html) and answer some questions about each metropolitan region. Each of these regions may have one or more teams from the \"Big 4\": NFL (football, in [assets/nfl.csv](assets/nfl.csv)), MLB (baseball, in [assets/mlb.csv](assets/mlb.csv)), NBA (basketball, in [assets/nba.csv](assets/nba.csv) or NHL (hockey, in [assets/nhl.csv](assets/nhl.csv)). Please keep in mind that all questions are from the perspective of the metropolitan region, and that this file is the \"source of authority\" for the location of a given sports team. Thus teams which are commonly known by a different area (e.g. \"Oakland Raiders\") need to be mapped into the metropolitan region given (e.g. San Francisco Bay Area). This will require some human data understanding outside of the data you've been given (e.g. you will have to hand-code some names, and might need to google to find out where teams are)!\n",
    "\n",
    "For each sport I would like you to answer the question: **what is the win/loss ratio's correlation with the population of the city it is in?** Win/Loss ratio refers to the number of wins over the number of wins plus the number of losses. Remember that to calculate the correlation with [`pearsonr`](https://docs.scipy.org/doc/scipy/reference/generated/scipy.stats.pearsonr.html), so you are going to send in two ordered lists of values, the populations from the wikipedia_data.html file and the win/loss ratio for a given sport in the same order. Average the win/loss ratios for those cities which have multiple teams of a single sport. Each sport is worth an equal amount in this assignment (20%\\*4=80%) of the grade for this assignment. You should only use data **from year 2018** for your analysis -- this is important!\n",
    "\n",
    "## Notes\n",
    "\n",
    "1. Do not include data about the MLS or CFL in any of the work you are doing, we're only interested in the Big 4 in this assignment.\n",
    "2. I highly suggest that you first tackle the four correlation questions in order, as they are all similar and worth the majority of grades for this assignment. This is by design!\n",
    "3. It's fair game to talk with peers about high level strategy as well as the relationship between metropolitan areas and sports teams. However, do not post code solving aspects of the assignment (including such as dictionaries mapping areas to teams, or regexes which will clean up names).\n",
    "4. There may be more teams than the assert statements test, remember to collapse multiple teams in one city into a single value!"
   ]
  },
  {
   "cell_type": "markdown",
   "metadata": {
    "deletable": false,
    "editable": false,
    "nbgrader": {
     "checksum": "369ff9ecf0ee04640574205cbc697f94",
     "grade": false,
     "grade_id": "cell-712b2b5da63d4505",
     "locked": true,
     "schema_version": 1,
     "solution": false
    }
   },
   "source": [
    "## Question 1\n",
    "For this question, calculate the win/loss ratio's correlation with the population of the city it is in for the **NHL** using **2018** data."
   ]
  },
  {
   "cell_type": "code",
   "execution_count": 1,
   "metadata": {
    "deletable": false,
    "nbgrader": {
     "checksum": "1cac4803b02502929f5b1612d48db2b5",
     "grade": false,
     "grade_id": "cell-69b16e4386e58030",
     "locked": false,
     "schema_version": 1,
     "solution": true
    }
   },
   "outputs": [],
   "source": [
    "import pandas as pd\n",
    "import numpy as np\n",
    "import scipy.stats as stats\n",
    "import re\n",
    "\n",
    "nhl_df=pd.read_csv(\"assets/nhl.csv\")\n",
    "cities=pd.read_html(\"assets/wikipedia_data.html\")[1]\n",
    "cities=cities.iloc[:-1,[0,3,5,6,7,8]]\n",
    "\n",
    "def nhl_correlation(): \n",
    "    # YOUR CODE HERE\n",
    "    nhl_df=pd.read_csv(\"assets/nhl.csv\")\n",
    "    cities=pd.read_html(\"assets/wikipedia_data.html\")[1]\n",
    "    cities=cities.iloc[:-1,[0,3,5,6,7,8]]\n",
    "    # cleaning data\n",
    "    # use only data from 2018\n",
    "    nhl_df = nhl_df[nhl_df['year']==2018]\n",
    "    # remove division infos\n",
    "    nhl_df = nhl_df.drop(nhl_df[nhl_df['GP'].str.contains(r'Division')].index).reset_index(drop=True)\n",
    "    # remove astericks from data with regexp\n",
    "    nhl_df['team'] = nhl_df['team'].replace({'\\*':''}, regex=True)\n",
    "    # keep only games played, wins, losses and team\n",
    "    nhl_df.drop(nhl_df.iloc[:, 4:], inplace = True, axis = 1)\n",
    "    # drop games played\n",
    "    nhl_df.drop(columns='GP', inplace=True, axis=1)\n",
    "    # delete foírst names from teams and just keep last name to do the mapping\n",
    "    nhl_df['team'] = nhl_df['team'].replace({'[\\w.]*\\ ':''}, regex=True)\n",
    "    # convert dtypes to numeric data\n",
    "    for i_col in nhl_df:\n",
    "        if i_col != 'team':\n",
    "            nhl_df[i_col] = pd.to_numeric(nhl_df[i_col], errors='coerce')\n",
    "    # compute w/l rate\n",
    "    nhl_df['w_l_rate'] = nhl_df['W'] / (nhl_df['W'] + nhl_df['L'])\n",
    "\n",
    "    # cleaning cities data\n",
    "    #rename cities column\n",
    "    cities.rename(columns= {\n",
    "        'Population (2016 est.)[8]' : 'Population'\n",
    "    }, inplace=True)\n",
    "    # remove brackets from dataset\n",
    "    cities['NHL'] = cities['NHL'].replace({'\\[.*\\]':''}, regex=True)\n",
    "    # mark empty string as nan\n",
    "    cities.replace('', np.nan, inplace=True)\n",
    "    # mark \"-\" as nan (\"-\" does not work so use sign directly from df)\n",
    "    cities.replace(cities['NHL'][14], np.nan, inplace=True)\n",
    "    # convert population series to pd numeric\n",
    "    cities['Population'] = pd.to_numeric(cities['Population'], errors='coerce')\n",
    "    #drop columns\n",
    "    cities.drop(columns=['NBA', 'NFL', 'MLB'], inplace=True)\n",
    "    # drop nas\n",
    "    cities.dropna(inplace=True, how='any')\n",
    "    cities.reset_index(drop=True, inplace=True)\n",
    "    print(f\"Number of cities with NHL teams: {len(cities['NHL']) - cities['NHL'].isna().sum()}\")\n",
    "    # split team names by capital and explode to a bigger df and reindex \n",
    "    cities = cities.assign(team = [re.findall(\"(?<!\\s)[A-Z](?:[a-z\\s]|(?<=\\s)[A-Z])*\", i_str) for i_str in cities['NHL']]).explode('team').reset_index(drop=True)\n",
    "    # drop also foírst names from team to do the mapping\n",
    "    cities['team'] = cities['team'].replace({'[\\w.]*\\ ':''}, regex=True)  \n",
    "    # drop old NHL column\n",
    "    cities.drop(columns=['NHL'], inplace=True)\n",
    "    # merge dfs\n",
    "    df = pd.merge(cities, nhl_df, 'outer', on='team')\n",
    "    \n",
    "    population_by_region = df.groupby(['Metropolitan area']).mean()['Population'] # pass in metropolitan area population from cities\n",
    "    win_loss_by_region = df.groupby(['Metropolitan area']).mean()['w_l_rate'] # pass in win/loss ratio from nhl_df in the same order as cities[\"Metropolitan area\"]\n",
    "\n",
    "    assert len(population_by_region) == len(win_loss_by_region), \"Q1: Your lists must be the same length\"\n",
    "    assert len(population_by_region) == 28, \"Q1: There should be 28 teams being analysed for NHL\"\n",
    "    \n",
    "    return stats.pearsonr(population_by_region, win_loss_by_region)[0]"
   ]
  },
  {
   "cell_type": "code",
   "execution_count": 2,
   "metadata": {},
   "outputs": [
    {
     "name": "stdout",
     "output_type": "stream",
     "text": [
      "Number of cities with NHL teams: 28\n"
     ]
    },
    {
     "data": {
      "text/plain": "0.012486162921209909"
     },
     "execution_count": 2,
     "metadata": {},
     "output_type": "execute_result"
    }
   ],
   "source": [
    "nhl_correlation()"
   ]
  },
  {
   "cell_type": "code",
   "execution_count": 2,
   "metadata": {
    "deletable": false,
    "editable": false,
    "nbgrader": {
     "checksum": "52a581df513c71153e105b93764cda4b",
     "grade": true,
     "grade_id": "cell-ebe0b2dfe1067e63",
     "locked": true,
     "points": 20,
     "schema_version": 1,
     "solution": false
    }
   },
   "outputs": [],
   "source": []
  },
  {
   "cell_type": "markdown",
   "metadata": {
    "deletable": false,
    "editable": false,
    "nbgrader": {
     "checksum": "988912cae4968d81473f46d783e79c16",
     "grade": false,
     "grade_id": "cell-cb964e690298b71d",
     "locked": true,
     "schema_version": 1,
     "solution": false
    }
   },
   "source": [
    "## Question 2\n",
    "For this question, calculate the win/loss ratio's correlation with the population of the city it is in for the **NBA** using **2018** data."
   ]
  },
  {
   "cell_type": "code",
   "execution_count": 3,
   "metadata": {
    "deletable": false,
    "nbgrader": {
     "checksum": "9394222aafc8ccab0a228098ba0d6010",
     "grade": false,
     "grade_id": "cell-5a5f21279e3d3572",
     "locked": false,
     "schema_version": 1,
     "solution": true
    }
   },
   "outputs": [],
   "source": [
    "import pandas as pd\n",
    "import numpy as np\n",
    "import scipy.stats as stats\n",
    "import re\n",
    "\n",
    "nba_df=pd.read_csv(\"assets/nba.csv\")\n",
    "cities=pd.read_html(\"assets/wikipedia_data.html\")[1]\n",
    "cities=cities.iloc[:-1,[0,3,5,6,7,8]]\n",
    "\n",
    "def nba_correlation():\n",
    "    # YOUR CODE HERE\n",
    "    \n",
    "    nba_df=pd.read_csv(\"assets/nba.csv\")\n",
    "    cities=pd.read_html(\"assets/wikipedia_data.html\")[1]\n",
    "    cities=cities.iloc[:-1,[0,3,5,6,7,8]]\n",
    "    # cleaning data\n",
    "    # use only data from 2018\n",
    "    nba_df = nba_df[nba_df['year']==2018]\n",
    "\n",
    "    # remove division infos\n",
    "    #nhl_df = nhl_df.drop(nhl_df[nhl_df['GP'].str.contains(r'Division')].index).reset_index(drop=True)\n",
    "    # remove astericks from data with regexp\n",
    "    nba_df['team'] = nba_df['team'].replace({'\\*':''}, regex=True)\n",
    "    nba_df['team'] = nba_df['team'].replace({'\\(\\d*\\)':''}, regex=True)\n",
    "    # keep only games played, wins, losses and team\n",
    "    nba_df = nba_df[['team', 'W/L%']]\n",
    "    # drop games played\n",
    "    #nhl_df.drop(columns='GP', inplace=True, axis=1)\n",
    "    # delete first names from teams and just keep last name to do the mapping\n",
    "    nba_df['team'] = nba_df['team'].replace({'[\\w.]*\\ ':''}, regex=True)\n",
    "    nba_df['team'] = nba_df['team'].replace({'\\s':''}, regex=True)\n",
    "    # convert dtypes to numeric data\n",
    "    for i_col in nba_df:\n",
    "        if i_col != 'team':\n",
    "            nba_df[i_col] = pd.to_numeric(nba_df[i_col], errors='coerce')\n",
    "\n",
    "    #rename cities column\n",
    "    cities.rename(columns= {\n",
    "        'Population (2016 est.)[8]' : 'Population'\n",
    "    }, inplace=True)\n",
    "    # remove brackets from dataset\n",
    "    cities['NBA'] = cities['NBA'].replace({'\\[.*\\]':''}, regex=True)\n",
    "    # mark empty string as nan\n",
    "    cities.replace('', np.nan, inplace=True)\n",
    "    # mark \"-\" as nan (\"-\" does not work so use sign directly from df)\n",
    "    cities.replace(cities['NBA'][16], np.nan, inplace=True)\n",
    "    # convert population series to pd numeric\n",
    "    cities['Population'] = pd.to_numeric(cities['Population'], errors='coerce')\n",
    "    #drop columns\n",
    "    cities.drop(columns=['NHL', 'NFL', 'MLB'], inplace=True)\n",
    "    # drop nas\n",
    "    cities.dropna(inplace=True, how='any')\n",
    "    cities.reset_index(drop=True, inplace=True)\n",
    "    print(f\"Number of cities with NBA teams: {len(cities['NBA']) - cities['NBA'].isna().sum()}\")\n",
    "    # split team names by capital and explode to a bigger df and reindex \n",
    "    cities = cities.assign(team = [re.findall(\"(?<!\\s)[A-Z](?:[a-z\\s]|(?<=\\s)[A-Z])*|[0-9]+[a-z]+\", i_str) for i_str in cities['NBA']]).explode('team').reset_index(drop=True)\n",
    "    # drop also foírst names from team to do the mapping\n",
    "    cities['team'] = cities['team'].replace({'[\\w.]*\\ ':''}, regex=True)  \n",
    "    # drop old NHL column\n",
    "    cities.drop(columns=['NBA'], inplace=True)\n",
    "    # merge dfs\n",
    "    df2 = pd.merge(cities, nba_df, 'outer', on='team')\n",
    "    \n",
    "    population_by_region = df2.groupby(['Metropolitan area']).mean()['Population'] # pass in metropolitan area population from cities\n",
    "    win_loss_by_region =  df2.groupby(['Metropolitan area']).mean()['W/L%']\n",
    "\n",
    "    assert len(population_by_region) == len(win_loss_by_region), \"Q2: Your lists must be the same length\"\n",
    "    assert len(population_by_region) == 28, \"Q2: There should be 28 teams being analysed for NBA\"\n",
    "\n",
    "    return stats.pearsonr(population_by_region, win_loss_by_region)[0]"
   ]
  },
  {
   "cell_type": "code",
   "execution_count": 4,
   "metadata": {},
   "outputs": [
    {
     "name": "stdout",
     "output_type": "stream",
     "text": [
      "Number of cities with NBA teams: 28\n"
     ]
    },
    {
     "data": {
      "text/plain": "-0.17636350642182935"
     },
     "execution_count": 4,
     "metadata": {},
     "output_type": "execute_result"
    }
   ],
   "source": [
    "nba_correlation()"
   ]
  },
  {
   "cell_type": "code",
   "execution_count": 4,
   "metadata": {
    "deletable": false,
    "editable": false,
    "nbgrader": {
     "checksum": "bbdeb8eb22f525a34c10dc8798324e42",
     "grade": true,
     "grade_id": "cell-e573b2b4a282b470",
     "locked": true,
     "points": 20,
     "schema_version": 1,
     "solution": false
    }
   },
   "outputs": [],
   "source": []
  },
  {
   "cell_type": "markdown",
   "metadata": {
    "deletable": false,
    "editable": false,
    "nbgrader": {
     "checksum": "1a1a5809f675ca033086422007cd73bd",
     "grade": false,
     "grade_id": "cell-96e15e4335df78f4",
     "locked": true,
     "schema_version": 1,
     "solution": false
    }
   },
   "source": [
    "## Question 3\n",
    "For this question, calculate the win/loss ratio's correlation with the population of the city it is in for the **MLB** using **2018** data."
   ]
  },
  {
   "cell_type": "code",
   "execution_count": 5,
   "metadata": {
    "deletable": false,
    "nbgrader": {
     "checksum": "27e8c0da6c9fa0dffc10488314335b6c",
     "grade": false,
     "grade_id": "cell-33b00fc3f3467b0c",
     "locked": false,
     "schema_version": 1,
     "solution": true
    }
   },
   "outputs": [],
   "source": [
    "import pandas as pd\n",
    "import numpy as np\n",
    "import scipy.stats as stats\n",
    "import re\n",
    "\n",
    "mlb_df=pd.read_csv(\"assets/mlb.csv\")\n",
    "cities=pd.read_html(\"assets/wikipedia_data.html\")[1]\n",
    "cities=cities.iloc[:-1,[0,3,5,6,7,8]]\n",
    "\n",
    "def mlb_correlation(): \n",
    "    # YOUR CODE HERE\n",
    "    \n",
    "    mlb_df=pd.read_csv(\"assets/mlb.csv\")\n",
    "    cities=pd.read_html(\"assets/wikipedia_data.html\")[1]\n",
    "    cities=cities.iloc[:-1,[0,3,5,6,7,8]]\n",
    "    # cleaning data\n",
    "    # use only data from 2018\n",
    "    mlb_df = mlb_df[mlb_df['year']==2018]\n",
    "    # remove division infos\n",
    "    # mlb_df = mlb_df.drop(mlb_df[mlb_df['GP'].str.contains(r'Division')].index).reset_index(drop=True)\n",
    "    # remove astericks from data with regexp\n",
    "    mlb_df['team'] = mlb_df['team'].replace({'\\*':''}, regex=True)\n",
    "    # keep only teams and win-loose rate\n",
    "    mlb_df = mlb_df[['team', 'W-L%']]\n",
    "\n",
    "    # Because there are red and white concat the names before sox in both dfs to do the mapping\n",
    "    mlb_df['team'] = mlb_df['team'].str.replace('\\ Sox','Sox')\n",
    "    # delete first names from teams and just keep last name to do the mapping\n",
    "    mlb_df['team'] = mlb_df['team'].replace({'[\\w.]*\\ ':''}, regex=True)\n",
    "    #mlb_df['team'] = mlb_df['team'].replace({'\\s':''}, regex=True)\n",
    "    # convert dtypes to numeric data\n",
    "    for i_col in mlb_df:\n",
    "        if i_col != 'team':\n",
    "            mlb_df[i_col] = pd.to_numeric(mlb_df[i_col], errors='coerce')\n",
    "\n",
    "    # cleaning cities data\n",
    "    #rename cities column\n",
    "    cities.rename(columns= {\n",
    "        'Population (2016 est.)[8]' : 'Population'\n",
    "    }, inplace=True)\n",
    "    # remove brackets from dataset\n",
    "    cities['MLB'] = cities['MLB'].replace({'\\[.*\\]':''}, regex=True)\n",
    "    # mark empty string as nan\n",
    "    cities.replace('', np.nan, inplace=True)\n",
    "    # mark \"-\" as nan (\"-\" does not work so use sign directly from df)\n",
    "    cities.replace(cities['MLB'][24], np.nan, inplace=True)\n",
    "    # convert population series to pd numeric\n",
    "    cities['Population'] = pd.to_numeric(cities['Population'], errors='coerce')\n",
    "    #drop columns\n",
    "    cities.drop(columns=['NBA', 'NFL', 'NHL'], inplace=True)\n",
    "    # drop nas\n",
    "    cities.dropna(inplace=True, how='any')\n",
    "    cities.reset_index(drop=True, inplace=True)\n",
    "    print(f\"Number of cities with MLB teams: {len(cities['MLB']) - cities['MLB'].isna().sum()}\")\n",
    "    # split team names by capital and explode to a bigger df and reindex \n",
    "    cities = cities.assign(team = [re.findall(\"(?<!\\s)[A-Z](?:[a-z\\s]|(?<=\\s)[A-Z])*\", i_str) for i_str in cities['MLB']]).explode('team').reset_index(drop=True)\n",
    "    # Because there are red and white concat the names before sox in both dfs to do the mapping\n",
    "    cities['team'] = cities['team'].str.replace('\\ Sox','Sox')\n",
    "    # drop also foírst names from team to do the mapping\n",
    "    cities['team'] = cities['team'].replace({'[\\w.]*\\ ':''}, regex=True)  \n",
    "    # drop old NHL column\n",
    "    cities.drop(columns=['MLB'], inplace=True)\n",
    "    # merge dfs\n",
    "    df3 = pd.merge(cities, mlb_df, 'outer', on='team')\n",
    "\n",
    "    \n",
    "    population_by_region = df3.groupby(['Metropolitan area']).mean()['Population'] # pass in metropolitan area population from cities\n",
    "    win_loss_by_region =  df3.groupby(['Metropolitan area']).mean()['W-L%']\n",
    "\n",
    "    assert len(population_by_region) == len(win_loss_by_region), \"Q3: Your lists must be the same length\"\n",
    "    assert len(population_by_region) == 26, \"Q3: There should be 26 teams being analysed for MLB\"\n",
    "\n",
    "    return stats.pearsonr(population_by_region, win_loss_by_region)[0]"
   ]
  },
  {
   "cell_type": "code",
   "execution_count": 6,
   "metadata": {},
   "outputs": [
    {
     "name": "stdout",
     "output_type": "stream",
     "text": [
      "Number of cities with MLB teams: 26\n"
     ]
    },
    {
     "name": "stderr",
     "output_type": "stream",
     "text": [
      "<ipython-input-5-7ccad7b5d39a>:27: FutureWarning: The default value of regex will change from True to False in a future version.\n",
      "  mlb_df['team'] = mlb_df['team'].str.replace('\\ Sox','Sox')\n",
      "<ipython-input-5-7ccad7b5d39a>:58: FutureWarning: The default value of regex will change from True to False in a future version.\n",
      "  cities['team'] = cities['team'].str.replace('\\ Sox','Sox')\n"
     ]
    },
    {
     "data": {
      "text/plain": "0.15003737475409495"
     },
     "execution_count": 6,
     "metadata": {},
     "output_type": "execute_result"
    }
   ],
   "source": [
    "mlb_correlation()"
   ]
  },
  {
   "cell_type": "code",
   "execution_count": 6,
   "metadata": {
    "deletable": false,
    "editable": false,
    "nbgrader": {
     "checksum": "cda33b094ba19ccc37a481e0dd29e0bc",
     "grade": true,
     "grade_id": "cell-764d4476f425c5a2",
     "locked": true,
     "points": 20,
     "schema_version": 1,
     "solution": false
    }
   },
   "outputs": [],
   "source": []
  },
  {
   "cell_type": "markdown",
   "metadata": {
    "deletable": false,
    "editable": false,
    "nbgrader": {
     "checksum": "6977a6da9ed6d8b7a0b7e37bbeda709b",
     "grade": false,
     "grade_id": "cell-793df6c04dfb126e",
     "locked": true,
     "schema_version": 1,
     "solution": false
    }
   },
   "source": [
    "## Question 4\n",
    "For this question, calculate the win/loss ratio's correlation with the population of the city it is in for the **NFL** using **2018** data."
   ]
  },
  {
   "cell_type": "code",
   "execution_count": 7,
   "metadata": {
    "deletable": false,
    "nbgrader": {
     "checksum": "c4914ad1e119278ec2bd567c52640b66",
     "grade": false,
     "grade_id": "cell-8ccebc209aeec8d9",
     "locked": false,
     "schema_version": 1,
     "solution": true
    }
   },
   "outputs": [],
   "source": [
    "import pandas as pd\n",
    "import numpy as np\n",
    "import scipy.stats as stats\n",
    "import re\n",
    "\n",
    "nfl_df=pd.read_csv(\"assets/nfl.csv\")\n",
    "cities=pd.read_html(\"assets/wikipedia_data.html\")[1]\n",
    "cities=cities.iloc[:-1,[0,3,5,6,7,8]]\n",
    "\n",
    "def nfl_correlation(): \n",
    "    # YOUR CODE HERE\n",
    "    nfl_df=pd.read_csv(\"assets/nfl.csv\")\n",
    "    cities=pd.read_html(\"assets/wikipedia_data.html\")[1]\n",
    "    cities=cities.iloc[:-1,[0,3,5,6,7,8]]\n",
    "\n",
    "    # use only data from 2018\n",
    "    nfl_df = nfl_df[nfl_df['year']==2018]\n",
    "    # drop NFC and AFC\n",
    "    nfl_df = nfl_df.drop(nfl_df[nfl_df['MoV'].str.contains(r'AFC')].index).reset_index(drop=True)\n",
    "    nfl_df = nfl_df.drop(nfl_df[nfl_df['MoV'].str.contains(r'NFC')].index).reset_index(drop=True)\n",
    "\n",
    "    # remove division infos\n",
    "    #nhl_df = nhl_df.drop(nhl_df[nhl_df['GP'].str.contains(r'Division')].index).reset_index(drop=True)\n",
    "    # remove astericks from data with regexp\n",
    "    nfl_df['team'] = nfl_df['team'].replace({'\\*':''}, regex=True)\n",
    "    nfl_df['team'] = nfl_df['team'].replace({'\\(\\d*\\)':''}, regex=True)\n",
    "    # keep only games played, wins, losses and team\n",
    "    nfl_df = nfl_df[['team', 'W-L%']]\n",
    "    # drop games played\n",
    "    #nhl_df.drop(columns='GP', inplace=True, axis=1)\n",
    "    # delete first names from teams and just keep last name to do the mapping\n",
    "    nfl_df['team'] = nfl_df['team'].replace({'[\\w.]*\\ ':''}, regex=True)\n",
    "    nfl_df['team'] = nfl_df['team'].replace({'\\s':''}, regex=True)\n",
    "    # remove + sign\n",
    "    nfl_df['team'] = nfl_df['team'].replace({'\\+':''}, regex=True)\n",
    "    # convert dtypes to numeric data\n",
    "    for i_col in nfl_df:\n",
    "        if i_col != 'team':\n",
    "            nfl_df[i_col] = pd.to_numeric(nfl_df[i_col], errors='coerce')\n",
    "\n",
    "    #rename cities column\n",
    "    cities.rename(columns= {\n",
    "        'Population (2016 est.)[8]' : 'Population'\n",
    "    }, inplace=True)\n",
    "    # remove brackets from dataset\n",
    "    cities['NFL'] = cities['NFL'].replace({'\\[.*\\]':''}, regex=True)\n",
    "    # mark empty string as nan\n",
    "    cities.replace('', np.nan, inplace=True)\n",
    "    # mark \"-\" as nan (\"-\" does not work so use sign directly from df)\n",
    "    cities.replace(cities['NFL'][30], np.nan, inplace=True)\n",
    "    # convert population series to pd numeric\n",
    "    cities['Population'] = pd.to_numeric(cities['Population'], errors='coerce')\n",
    "    #drop columns\n",
    "    cities.drop(columns=['NHL', 'NBA', 'MLB'], inplace=True)\n",
    "    # drop nas\n",
    "    cities.dropna(inplace=True, how='any')\n",
    "    cities.reset_index(drop=True, inplace=True)\n",
    "    # split team names by capital and explode to a bigger df and reindex \n",
    "    cities = cities.assign(team = [re.findall(\"(?<!\\s)[A-Z](?:[a-z\\s]|(?<=\\s)[A-Z])*|[0-9]+[a-z]+\", i_str) for i_str in cities['NFL']]).explode('team').reset_index(drop=True)\n",
    "    # drop also first names from team to do the mapping\n",
    "    cities['team'] = cities['team'].replace({'[\\w.]*\\ ':''}, regex=True)\n",
    "    # drop nas\n",
    "    cities.dropna(inplace=True, how='any')\n",
    "    cities.reset_index(drop=True, inplace=True)\n",
    "    # drop old NHL column\n",
    "    cities.drop(columns=['NFL'], inplace=True)\n",
    "    # merge dfs\n",
    "    df4 = pd.merge(cities, nfl_df, 'outer', on='team')\n",
    "    \n",
    "    population_by_region = df4.groupby(['Metropolitan area']).mean()['Population'] # pass in metropolitan area population from cities\n",
    "    win_loss_by_region =  df4.groupby(['Metropolitan area']).mean()['W-L%']\n",
    "\n",
    "    assert len(population_by_region) == len(win_loss_by_region), \"Q4: Your lists must be the same length\"\n",
    "    assert len(population_by_region) == 29, \"Q4: There should be 29 teams being analysed for NFL\"\n",
    "\n",
    "    return stats.pearsonr(population_by_region, win_loss_by_region)[0]"
   ]
  },
  {
   "cell_type": "code",
   "execution_count": 8,
   "metadata": {
    "scrolled": true
   },
   "outputs": [
    {
     "data": {
      "text/plain": "0.004282141436393022"
     },
     "execution_count": 8,
     "metadata": {},
     "output_type": "execute_result"
    }
   ],
   "source": [
    "nfl_correlation()"
   ]
  },
  {
   "cell_type": "code",
   "execution_count": 8,
   "metadata": {
    "deletable": false,
    "editable": false,
    "nbgrader": {
     "checksum": "e9415d6399aa49e3a1a60813afdefa3b",
     "grade": true,
     "grade_id": "cell-de7b148b9554dbda",
     "locked": true,
     "points": 20,
     "schema_version": 1,
     "solution": false
    }
   },
   "outputs": [],
   "source": []
  },
  {
   "cell_type": "markdown",
   "metadata": {
    "deletable": false,
    "editable": false,
    "nbgrader": {
     "checksum": "b02d5cd3273f561e4ae939bb2a41740c",
     "grade": false,
     "grade_id": "cell-97b49d8639e908c4",
     "locked": true,
     "schema_version": 1,
     "solution": false
    }
   },
   "source": [
    "## Question 5\n",
    "In this question I would like you to explore the hypothesis that **given that an area has two sports teams in different sports, those teams will perform the same within their respective sports**. How I would like to see this explored is with a series of paired t-tests (so use [`ttest_rel`](https://docs.scipy.org/doc/scipy/reference/generated/scipy.stats.ttest_rel.html)) between all pairs of sports. Are there any sports where we can reject the null hypothesis? Again, average values where a sport has multiple teams in one region. Remember, you will only be including, for each sport, cities which have teams engaged in that sport, drop others as appropriate. This question is worth 20% of the grade for this assignment."
   ]
  },
  {
   "cell_type": "code",
   "execution_count": 9,
   "metadata": {
    "deletable": false,
    "nbgrader": {
     "checksum": "6d78c961eb66f8d8c81f06d33ae8f393",
     "grade": false,
     "grade_id": "cell-92f25f44b8d1179f",
     "locked": false,
     "schema_version": 1,
     "solution": true
    }
   },
   "outputs": [],
   "source": [
    "import pandas as pd\n",
    "import numpy as np\n",
    "import scipy.stats as stats\n",
    "import re\n",
    "\n",
    "mlb_df=pd.read_csv(\"assets/mlb.csv\")\n",
    "nhl_df=pd.read_csv(\"assets/nhl.csv\")\n",
    "nba_df=pd.read_csv(\"assets/nba.csv\")\n",
    "nfl_df=pd.read_csv(\"assets/nfl.csv\")\n",
    "cities=pd.read_html(\"assets/wikipedia_data.html\")[1]\n",
    "cities=cities.iloc[:-1,[0,3,5,6,7,8]]\n",
    "\n",
    "# As a preparation we should change the upper functions so that each function returns the average win-loose rate\n",
    "# After that we iterate over the different w-l rates and correlate each one with each other except from with itself.\n",
    "# It is important that you only use the metropolitan regions where there are two sports teams in the current region. \n",
    "# So at first the two series have to be merged by inner merging\n",
    "\n",
    "def nfl_df():\n",
    "    nfl_df=pd.read_csv(\"assets/nfl.csv\")\n",
    "    cities=pd.read_html(\"assets/wikipedia_data.html\")[1]\n",
    "    cities=cities.iloc[:-1,[0,3,5,6,7,8]]\n",
    "    # use only data from 2018\n",
    "    nfl_df = nfl_df[nfl_df['year']==2018]\n",
    "    # drop NFC and AFC\n",
    "    nfl_df = nfl_df.drop(nfl_df[nfl_df['MoV'].str.contains(r'AFC')].index).reset_index(drop=True)\n",
    "    nfl_df = nfl_df.drop(nfl_df[nfl_df['MoV'].str.contains(r'NFC')].index).reset_index(drop=True)\n",
    "\n",
    "    # remove division infos\n",
    "    #nhl_df = nhl_df.drop(nhl_df[nhl_df['GP'].str.contains(r'Division')].index).reset_index(drop=True)\n",
    "    # remove astericks from data with regexp\n",
    "    nfl_df['team'] = nfl_df['team'].replace({'\\*':''}, regex=True)\n",
    "    nfl_df['team'] = nfl_df['team'].replace({'\\(\\d*\\)':''}, regex=True)\n",
    "    # keep only games played, wins, losses and team\n",
    "    nfl_df = nfl_df[['team', 'W-L%']]\n",
    "    # drop games played\n",
    "    #nhl_df.drop(columns='GP', inplace=True, axis=1)\n",
    "    # delete first names from teams and just keep last name to do the mapping\n",
    "    nfl_df['team'] = nfl_df['team'].replace({'[\\w.]*\\ ':''}, regex=True)\n",
    "    nfl_df['team'] = nfl_df['team'].replace({'\\s':''}, regex=True)\n",
    "    # remove + sign\n",
    "    nfl_df['team'] = nfl_df['team'].replace({'\\+':''}, regex=True)\n",
    "    # convert dtypes to numeric data\n",
    "    for i_col in nfl_df:\n",
    "        if i_col != 'team':\n",
    "            nfl_df[i_col] = pd.to_numeric(nfl_df[i_col], errors='coerce')\n",
    "\n",
    "    #rename cities column\n",
    "    cities.rename(columns= {\n",
    "        'Population (2016 est.)[8]' : 'Population'\n",
    "    }, inplace=True)\n",
    "    # remove brackets from dataset\n",
    "    cities['NFL'] = cities['NFL'].replace({'\\[.*\\]':''}, regex=True)\n",
    "    # mark empty string as nan\n",
    "    cities.replace('', np.nan, inplace=True)\n",
    "    # mark \"-\" as nan (\"-\" does not work so use sign directly from df)\n",
    "    cities.replace(cities['NFL'][30], np.nan, inplace=True)\n",
    "    # convert population series to pd numeric\n",
    "    cities['Population'] = pd.to_numeric(cities['Population'], errors='coerce')\n",
    "    #drop columns\n",
    "    cities.drop(columns=['NHL', 'NBA', 'MLB'], inplace=True)\n",
    "    # drop nas\n",
    "    cities.dropna(inplace=True, how='any')\n",
    "    cities.reset_index(drop=True, inplace=True)\n",
    "    # split team names by capital and explode to a bigger df and reindex \n",
    "    cities = cities.assign(team = [re.findall(\"(?<!\\s)[A-Z](?:[a-z\\s]|(?<=\\s)[A-Z])*|[0-9]+[a-z]+\", i_str) for i_str in cities['NFL']]).explode('team').reset_index(drop=True)\n",
    "    # drop also first names from team to do the mapping\n",
    "    cities['team'] = cities['team'].replace({'[\\w.]*\\ ':''}, regex=True)\n",
    "    # drop nas\n",
    "    cities.dropna(inplace=True, how='any')\n",
    "    cities.reset_index(drop=True, inplace=True)\n",
    "    # drop old NHL column\n",
    "    cities.drop(columns=['NFL'], inplace=True)\n",
    "    # merge dfs\n",
    "    df4 = pd.merge(cities, nfl_df, 'outer', on='team')\n",
    "    return df4.groupby(['Metropolitan area']).mean()['W-L%']\n",
    "\n",
    "def nba_df():\n",
    "    nba_df=pd.read_csv(\"assets/nba.csv\")\n",
    "    cities=pd.read_html(\"assets/wikipedia_data.html\")[1]\n",
    "    cities=cities.iloc[:-1,[0,3,5,6,7,8]]\n",
    "    # use only data from 2018\n",
    "    nba_df = nba_df[nba_df['year']==2018]\n",
    "\n",
    "    # remove division infos\n",
    "    #nhl_df = nhl_df.drop(nhl_df[nhl_df['GP'].str.contains(r'Division')].index).reset_index(drop=True)\n",
    "    # remove astericks from data with regexp\n",
    "    nba_df['team'] = nba_df['team'].replace({'\\*':''}, regex=True)\n",
    "    nba_df['team'] = nba_df['team'].replace({'\\(\\d*\\)':''}, regex=True)\n",
    "    # keep only games played, wins, losses and team\n",
    "    nba_df = nba_df[['team', 'W/L%']]\n",
    "    # drop games played\n",
    "    #nhl_df.drop(columns='GP', inplace=True, axis=1)\n",
    "    # delete first names from teams and just keep last name to do the mapping\n",
    "    nba_df['team'] = nba_df['team'].replace({'[\\w.]*\\ ':''}, regex=True)\n",
    "    nba_df['team'] = nba_df['team'].replace({'\\s':''}, regex=True)\n",
    "    # convert dtypes to numeric data\n",
    "    for i_col in nba_df:\n",
    "        if i_col != 'team':\n",
    "            nba_df[i_col] = pd.to_numeric(nba_df[i_col], errors='coerce')\n",
    "\n",
    "    # rename W-L rate to automate merging\n",
    "    nba_df.rename(columns = {\n",
    "        'W/L%' : 'W-L%'\n",
    "    }, inplace=True)\n",
    "    #rename cities column\n",
    "    cities.rename(columns= {\n",
    "        'Population (2016 est.)[8]' : 'Population'\n",
    "    }, inplace=True)\n",
    "    # remove brackets from dataset\n",
    "    cities['NBA'] = cities['NBA'].replace({'\\[.*\\]':''}, regex=True)\n",
    "    # mark empty string as nan\n",
    "    cities.replace('', np.nan, inplace=True)\n",
    "    # mark \"-\" as nan (\"-\" does not work so use sign directly from df)\n",
    "    cities.replace(cities['NBA'][16], np.nan, inplace=True)\n",
    "    # convert population series to pd numeric\n",
    "    cities['Population'] = pd.to_numeric(cities['Population'], errors='coerce')\n",
    "    #drop columns\n",
    "    cities.drop(columns=['NHL', 'NFL', 'MLB'], inplace=True)\n",
    "    # drop nas\n",
    "    cities.dropna(inplace=True, how='any')\n",
    "    cities.reset_index(drop=True, inplace=True)\n",
    "    \n",
    "    # split team names by capital and explode to a bigger df and reindex \n",
    "    cities = cities.assign(team = [re.findall(\"(?<!\\s)[A-Z](?:[a-z\\s]|(?<=\\s)[A-Z])*|[0-9]+[a-z]+\", i_str) for i_str in cities['NBA']]).explode('team').reset_index(drop=True)\n",
    "    # drop also foírst names from team to do the mapping\n",
    "    cities['team'] = cities['team'].replace({'[\\w.]*\\ ':''}, regex=True)  \n",
    "    # drop old NHL column\n",
    "    cities.drop(columns=['NBA'], inplace=True)\n",
    "    # merge dfs\n",
    "    df2 = pd.merge(cities, nba_df, 'outer', on='team')\n",
    "    return df2.groupby(['Metropolitan area']).mean()['W-L%']\n",
    "          \n",
    "def nhl_df():\n",
    "    nhl_df=pd.read_csv(\"assets/nhl.csv\")\n",
    "    cities=pd.read_html(\"assets/wikipedia_data.html\")[1]\n",
    "    cities=cities.iloc[:-1,[0,3,5,6,7,8]]\n",
    "    # cleaning data\n",
    "    # use only data from 2018\n",
    "    nhl_df = nhl_df[nhl_df['year']==2018]\n",
    "    # remove division infos\n",
    "    nhl_df = nhl_df.drop(nhl_df[nhl_df['GP'].str.contains(r'Division')].index).reset_index(drop=True)\n",
    "    # remove astericks from data with regexp\n",
    "    nhl_df['team'] = nhl_df['team'].replace({'\\*':''}, regex=True)\n",
    "    # keep only games played, wins, losses and team\n",
    "    nhl_df.drop(nhl_df.iloc[:, 4:], inplace = True, axis = 1)\n",
    "    # drop games played\n",
    "    nhl_df.drop(columns='GP', inplace=True, axis=1)\n",
    "    # delete foírst names from teams and just keep last name to do the mapping\n",
    "    nhl_df['team'] = nhl_df['team'].replace({'[\\w.]*\\ ':''}, regex=True)\n",
    "    # convert dtypes to numeric data\n",
    "    for i_col in nhl_df:\n",
    "        if i_col != 'team':\n",
    "            nhl_df[i_col] = pd.to_numeric(nhl_df[i_col], errors='coerce')\n",
    "    # compute w/l rate\n",
    "    nhl_df['w_l_rate'] = nhl_df['W'] / (nhl_df['W'] + nhl_df['L'])\n",
    "    # rename w-l rate to automate it down below\n",
    "    nhl_df.rename(columns = {\n",
    "        'w_l_rate' : 'W-L%'\n",
    "    }, inplace = True)\n",
    "\n",
    "    # cleaning cities data\n",
    "    #rename cities column\n",
    "    cities.rename(columns= {\n",
    "        'Population (2016 est.)[8]' : 'Population'\n",
    "    }, inplace=True)\n",
    "    # remove brackets from dataset\n",
    "    cities['NHL'] = cities['NHL'].replace({'\\[.*\\]':''}, regex=True)\n",
    "    # mark empty string as nan\n",
    "    cities.replace('', np.nan, inplace=True)\n",
    "    # mark \"-\" as nan (\"-\" does not work so use sign directly from df)\n",
    "    cities.replace(cities['NHL'][14], np.nan, inplace=True)\n",
    "    # convert population series to pd numeric\n",
    "    cities['Population'] = pd.to_numeric(cities['Population'], errors='coerce')\n",
    "    #drop columns\n",
    "    cities.drop(columns=['NBA', 'NFL', 'MLB'], inplace=True)\n",
    "    # drop nas\n",
    "    cities.dropna(inplace=True, how='any')\n",
    "    cities.reset_index(drop=True, inplace=True)\n",
    "    \n",
    "    # split team names by capital and explode to a bigger df and reindex \n",
    "    cities = cities.assign(team = [re.findall(\"(?<!\\s)[A-Z](?:[a-z\\s]|(?<=\\s)[A-Z])*\", i_str) for i_str in cities['NHL']]).explode('team').reset_index(drop=True)\n",
    "    # drop also foírst names from team to do the mapping\n",
    "    cities['team'] = cities['team'].replace({'[\\w.]*\\ ':''}, regex=True)  \n",
    "    # drop old NHL column\n",
    "    cities.drop(columns=['NHL'], inplace=True)\n",
    "    # merge dfs\n",
    "    df = pd.merge(cities, nhl_df, 'outer', on='team')\n",
    "    return df.groupby(['Metropolitan area']).mean()['W-L%']\n",
    "\n",
    "\n",
    "def mlb_df():\n",
    "    mlb_df=pd.read_csv(\"assets/mlb.csv\")\n",
    "    cities=pd.read_html(\"assets/wikipedia_data.html\")[1]\n",
    "    cities=cities.iloc[:-1,[0,3,5,6,7,8]]\n",
    "    # cleaning data\n",
    "    # use only data from 2018\n",
    "    mlb_df = mlb_df[mlb_df['year']==2018]\n",
    "    # remove division infos\n",
    "    # mlb_df = mlb_df.drop(mlb_df[mlb_df['GP'].str.contains(r'Division')].index).reset_index(drop=True)\n",
    "    # remove astericks from data with regexp\n",
    "    mlb_df['team'] = mlb_df['team'].replace({'\\*':''}, regex=True)\n",
    "    # keep only teams and win-loose rate\n",
    "    mlb_df = mlb_df[['team', 'W-L%']]\n",
    "\n",
    "    # Because there are red and white concat the names before sox in both dfs to do the mapping\n",
    "    mlb_df['team'] = mlb_df['team'].str.replace('\\ Sox','Sox')\n",
    "    # delete first names from teams and just keep last name to do the mapping\n",
    "    mlb_df['team'] = mlb_df['team'].replace({'[\\w.]*\\ ':''}, regex=True)\n",
    "    #mlb_df['team'] = mlb_df['team'].replace({'\\s':''}, regex=True)\n",
    "    # convert dtypes to numeric data\n",
    "    for i_col in mlb_df:\n",
    "        if i_col != 'team':\n",
    "            mlb_df[i_col] = pd.to_numeric(mlb_df[i_col], errors='coerce')\n",
    "\n",
    "    # cleaning cities data\n",
    "    #rename cities column\n",
    "    cities.rename(columns= {\n",
    "        'Population (2016 est.)[8]' : 'Population'\n",
    "    }, inplace=True)\n",
    "    # remove brackets from dataset\n",
    "    cities['MLB'] = cities['MLB'].replace({'\\[.*\\]':''}, regex=True)\n",
    "    # mark empty string as nan\n",
    "    cities.replace('', np.nan, inplace=True)\n",
    "    # mark \"-\" as nan (\"-\" does not work so use sign directly from df)\n",
    "    cities.replace(cities['MLB'][24], np.nan, inplace=True)\n",
    "    # convert population series to pd numeric\n",
    "    cities['Population'] = pd.to_numeric(cities['Population'], errors='coerce')\n",
    "    #drop columns\n",
    "    cities.drop(columns=['NBA', 'NFL', 'NHL'], inplace=True)\n",
    "    # drop nas\n",
    "    cities.dropna(inplace=True, how='any')\n",
    "    cities.reset_index(drop=True, inplace=True)\n",
    "    \n",
    "    # split team names by capital and explode to a bigger df and reindex \n",
    "    cities = cities.assign(team = [re.findall(\"(?<!\\s)[A-Z](?:[a-z\\s]|(?<=\\s)[A-Z])*\", i_str) for i_str in cities['MLB']]).explode('team').reset_index(drop=True)\n",
    "    # Because there are red and white concat the names before sox in both dfs to do the mapping\n",
    "    cities['team'] = cities['team'].str.replace('\\ Sox','Sox')\n",
    "    # drop also foírst names from team to do the mapping\n",
    "    cities['team'] = cities['team'].replace({'[\\w.]*\\ ':''}, regex=True)  \n",
    "    # drop old NHL column\n",
    "    cities.drop(columns=['MLB'], inplace=True)\n",
    "    # merge dfs\n",
    "    df3 = pd.merge(cities, mlb_df, 'outer', on='team')\n",
    "    return df3.groupby(['Metropolitan area']).mean()['W-L%']\n",
    "\n",
    "\n",
    "\n",
    "def get_df(sport):\n",
    "    if sport == \"NFL\":\n",
    "        return nfl_df()\n",
    "    elif sport == \"NBA\":\n",
    "        return nba_df()\n",
    "    elif sport == \"NHL\":\n",
    "        return nhl_df()\n",
    "    elif sport == \"MLB\":\n",
    "        return mlb_df()\n",
    "\n",
    "def sports_team_performance():\n",
    "    # YOUR CODE HERE\n",
    "\n",
    "    \n",
    "    # Note: p_values is a full dataframe, so df.loc[\"NFL\",\"NBA\"] should be the same as df.loc[\"NBA\",\"NFL\"] and\n",
    "    # df.loc[\"NFL\",\"NFL\"] should return np.nan\n",
    "    sports = ['NFL', 'NBA', 'NHL', 'MLB']\n",
    "    p_values = pd.DataFrame({k:np.nan for k in sports}, index=sports)\n",
    "    \n",
    "    for i_sport in sports:\n",
    "        for j_sport in sports:\n",
    "            if i_sport != j_sport:\n",
    "                merged_df = pd.merge(get_df(i_sport), get_df(j_sport), how=\"inner\", on=['Metropolitan area'])\n",
    "                # returns two values (statistics and pvalue) --> return second value\n",
    "                p_values.loc[i_sport, j_sport]=stats.ttest_rel(merged_df['W-L%_x'],merged_df['W-L%_y'])[1]\n",
    "    \n",
    "    assert abs(p_values.loc[\"NBA\", \"NHL\"] - 0.02) <= 1e-2, \"The NBA-NHL p-value should be around 0.02\"\n",
    "    assert abs(p_values.loc[\"MLB\", \"NFL\"] - 0.80) <= 1e-2, \"The MLB-NFL p-value should be around 0.80\"\n",
    "    return p_values"
   ]
  },
  {
   "cell_type": "code",
   "execution_count": 10,
   "metadata": {},
   "outputs": [
    {
     "name": "stderr",
     "output_type": "stream",
     "text": [
      "<ipython-input-9-d11aeb885589>:206: FutureWarning: The default value of regex will change from True to False in a future version.\n",
      "  mlb_df['team'] = mlb_df['team'].str.replace('\\ Sox','Sox')\n",
      "<ipython-input-9-d11aeb885589>:237: FutureWarning: The default value of regex will change from True to False in a future version.\n",
      "  cities['team'] = cities['team'].str.replace('\\ Sox','Sox')\n",
      "<ipython-input-9-d11aeb885589>:206: FutureWarning: The default value of regex will change from True to False in a future version.\n",
      "  mlb_df['team'] = mlb_df['team'].str.replace('\\ Sox','Sox')\n",
      "<ipython-input-9-d11aeb885589>:237: FutureWarning: The default value of regex will change from True to False in a future version.\n",
      "  cities['team'] = cities['team'].str.replace('\\ Sox','Sox')\n",
      "<ipython-input-9-d11aeb885589>:206: FutureWarning: The default value of regex will change from True to False in a future version.\n",
      "  mlb_df['team'] = mlb_df['team'].str.replace('\\ Sox','Sox')\n",
      "<ipython-input-9-d11aeb885589>:237: FutureWarning: The default value of regex will change from True to False in a future version.\n",
      "  cities['team'] = cities['team'].str.replace('\\ Sox','Sox')\n",
      "<ipython-input-9-d11aeb885589>:206: FutureWarning: The default value of regex will change from True to False in a future version.\n",
      "  mlb_df['team'] = mlb_df['team'].str.replace('\\ Sox','Sox')\n",
      "<ipython-input-9-d11aeb885589>:237: FutureWarning: The default value of regex will change from True to False in a future version.\n",
      "  cities['team'] = cities['team'].str.replace('\\ Sox','Sox')\n",
      "<ipython-input-9-d11aeb885589>:206: FutureWarning: The default value of regex will change from True to False in a future version.\n",
      "  mlb_df['team'] = mlb_df['team'].str.replace('\\ Sox','Sox')\n",
      "<ipython-input-9-d11aeb885589>:237: FutureWarning: The default value of regex will change from True to False in a future version.\n",
      "  cities['team'] = cities['team'].str.replace('\\ Sox','Sox')\n",
      "<ipython-input-9-d11aeb885589>:206: FutureWarning: The default value of regex will change from True to False in a future version.\n",
      "  mlb_df['team'] = mlb_df['team'].str.replace('\\ Sox','Sox')\n",
      "<ipython-input-9-d11aeb885589>:237: FutureWarning: The default value of regex will change from True to False in a future version.\n",
      "  cities['team'] = cities['team'].str.replace('\\ Sox','Sox')\n"
     ]
    },
    {
     "data": {
      "text/plain": "          NFL       NBA       NHL       MLB\nNFL       NaN  0.937509  0.030318  0.803459\nNBA  0.937509       NaN  0.022386  0.949566\nNHL  0.030318  0.022386       NaN  0.000703\nMLB  0.803459  0.949566  0.000703       NaN",
      "text/html": "<div>\n<style scoped>\n    .dataframe tbody tr th:only-of-type {\n        vertical-align: middle;\n    }\n\n    .dataframe tbody tr th {\n        vertical-align: top;\n    }\n\n    .dataframe thead th {\n        text-align: right;\n    }\n</style>\n<table border=\"1\" class=\"dataframe\">\n  <thead>\n    <tr style=\"text-align: right;\">\n      <th></th>\n      <th>NFL</th>\n      <th>NBA</th>\n      <th>NHL</th>\n      <th>MLB</th>\n    </tr>\n  </thead>\n  <tbody>\n    <tr>\n      <th>NFL</th>\n      <td>NaN</td>\n      <td>0.937509</td>\n      <td>0.030318</td>\n      <td>0.803459</td>\n    </tr>\n    <tr>\n      <th>NBA</th>\n      <td>0.937509</td>\n      <td>NaN</td>\n      <td>0.022386</td>\n      <td>0.949566</td>\n    </tr>\n    <tr>\n      <th>NHL</th>\n      <td>0.030318</td>\n      <td>0.022386</td>\n      <td>NaN</td>\n      <td>0.000703</td>\n    </tr>\n    <tr>\n      <th>MLB</th>\n      <td>0.803459</td>\n      <td>0.949566</td>\n      <td>0.000703</td>\n      <td>NaN</td>\n    </tr>\n  </tbody>\n</table>\n</div>"
     },
     "execution_count": 10,
     "metadata": {},
     "output_type": "execute_result"
    }
   ],
   "source": [
    "sports_team_performance()"
   ]
  },
  {
   "cell_type": "code",
   "execution_count": 11,
   "metadata": {},
   "outputs": [
    {
     "name": "stderr",
     "output_type": "stream",
     "text": [
      "<ipython-input-9-d11aeb885589>:206: FutureWarning: The default value of regex will change from True to False in a future version.\n",
      "  mlb_df['team'] = mlb_df['team'].str.replace('\\ Sox','Sox')\n",
      "<ipython-input-9-d11aeb885589>:237: FutureWarning: The default value of regex will change from True to False in a future version.\n",
      "  cities['team'] = cities['team'].str.replace('\\ Sox','Sox')\n"
     ]
    }
   ],
   "source": [
    "merge=pd.merge(get_df('NHL'),get_df('MLB'),'inner', on = ['Metropolitan area'])"
   ]
  },
  {
   "cell_type": "code",
   "execution_count": 12,
   "metadata": {},
   "outputs": [
    {
     "data": {
      "text/plain": "                          W-L%_x  W-L%_y\nMetropolitan area                       \nBoston                  0.714286   0.667\nChicago                 0.458333   0.483\nDallas–Fort Worth       0.567568   0.414\nDenver                  0.589041   0.558\nDetroit                 0.434783   0.395\nLos Angeles             0.622895   0.529\nMiami–Fort Lauderdale   0.594595   0.391\nMinneapolis–Saint Paul  0.633803   0.481\nNew York City           0.518201   0.546\nPhiladelphia            0.617647   0.494\nPhoenix                 0.414286   0.506\nPittsburgh              0.618421   0.509\nSan Francisco Bay Area  0.625000   0.525\nSt. Louis               0.578947   0.543\nTampa Bay Area          0.701299   0.556\nToronto                 0.653333   0.451\nWashington, D.C.        0.653333   0.506",
      "text/html": "<div>\n<style scoped>\n    .dataframe tbody tr th:only-of-type {\n        vertical-align: middle;\n    }\n\n    .dataframe tbody tr th {\n        vertical-align: top;\n    }\n\n    .dataframe thead th {\n        text-align: right;\n    }\n</style>\n<table border=\"1\" class=\"dataframe\">\n  <thead>\n    <tr style=\"text-align: right;\">\n      <th></th>\n      <th>W-L%_x</th>\n      <th>W-L%_y</th>\n    </tr>\n    <tr>\n      <th>Metropolitan area</th>\n      <th></th>\n      <th></th>\n    </tr>\n  </thead>\n  <tbody>\n    <tr>\n      <th>Boston</th>\n      <td>0.714286</td>\n      <td>0.667</td>\n    </tr>\n    <tr>\n      <th>Chicago</th>\n      <td>0.458333</td>\n      <td>0.483</td>\n    </tr>\n    <tr>\n      <th>Dallas–Fort Worth</th>\n      <td>0.567568</td>\n      <td>0.414</td>\n    </tr>\n    <tr>\n      <th>Denver</th>\n      <td>0.589041</td>\n      <td>0.558</td>\n    </tr>\n    <tr>\n      <th>Detroit</th>\n      <td>0.434783</td>\n      <td>0.395</td>\n    </tr>\n    <tr>\n      <th>Los Angeles</th>\n      <td>0.622895</td>\n      <td>0.529</td>\n    </tr>\n    <tr>\n      <th>Miami–Fort Lauderdale</th>\n      <td>0.594595</td>\n      <td>0.391</td>\n    </tr>\n    <tr>\n      <th>Minneapolis–Saint Paul</th>\n      <td>0.633803</td>\n      <td>0.481</td>\n    </tr>\n    <tr>\n      <th>New York City</th>\n      <td>0.518201</td>\n      <td>0.546</td>\n    </tr>\n    <tr>\n      <th>Philadelphia</th>\n      <td>0.617647</td>\n      <td>0.494</td>\n    </tr>\n    <tr>\n      <th>Phoenix</th>\n      <td>0.414286</td>\n      <td>0.506</td>\n    </tr>\n    <tr>\n      <th>Pittsburgh</th>\n      <td>0.618421</td>\n      <td>0.509</td>\n    </tr>\n    <tr>\n      <th>San Francisco Bay Area</th>\n      <td>0.625000</td>\n      <td>0.525</td>\n    </tr>\n    <tr>\n      <th>St. Louis</th>\n      <td>0.578947</td>\n      <td>0.543</td>\n    </tr>\n    <tr>\n      <th>Tampa Bay Area</th>\n      <td>0.701299</td>\n      <td>0.556</td>\n    </tr>\n    <tr>\n      <th>Toronto</th>\n      <td>0.653333</td>\n      <td>0.451</td>\n    </tr>\n    <tr>\n      <th>Washington, D.C.</th>\n      <td>0.653333</td>\n      <td>0.506</td>\n    </tr>\n  </tbody>\n</table>\n</div>"
     },
     "execution_count": 12,
     "metadata": {},
     "output_type": "execute_result"
    }
   ],
   "source": [
    "merge"
   ]
  },
  {
   "cell_type": "code",
   "execution_count": 13,
   "metadata": {},
   "outputs": [
    {
     "data": {
      "text/plain": "Ttest_relResult(statistic=4.183064406351442, pvalue=0.0007029593210460182)"
     },
     "execution_count": 13,
     "metadata": {},
     "output_type": "execute_result"
    }
   ],
   "source": [
    "stats.ttest_rel(merge['W-L%_x'],merge['W-L%_y'])"
   ]
  },
  {
   "cell_type": "code",
   "execution_count": null,
   "metadata": {
    "deletable": false,
    "editable": false,
    "nbgrader": {
     "checksum": "2a596ab421a45cc01168d10e8fbb8f89",
     "grade": true,
     "grade_id": "cell-fb4b9cb5ff4570a6",
     "locked": true,
     "points": 20,
     "schema_version": 1,
     "solution": false
    }
   },
   "outputs": [],
   "source": []
  }
 ],
 "metadata": {
  "coursera": {
   "schema_names": [
    "mooc_adswpy_1_v2_assignment4"
   ]
  },
  "kernelspec": {
   "display_name": "Python 3",
   "language": "python",
   "name": "python3"
  },
  "language_info": {
   "codemirror_mode": {
    "name": "ipython",
    "version": 3
   },
   "file_extension": ".py",
   "mimetype": "text/x-python",
   "name": "python",
   "nbconvert_exporter": "python",
   "pygments_lexer": "ipython3",
   "version": "3.7.3"
  }
 },
 "nbformat": 4,
 "nbformat_minor": 4
}